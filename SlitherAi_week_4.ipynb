{
  "nbformat": 4,
  "nbformat_minor": 0,
  "metadata": {
    "colab": {
      "provenance": [],
      "authorship_tag": "ABX9TyOWA0tmqFYxrtCVZ059WOVM"
    },
    "kernelspec": {
      "name": "python3",
      "display_name": "Python 3"
    },
    "language_info": {
      "name": "python"
    }
  },
  "cells": [
    {
      "cell_type": "code",
      "execution_count": 3,
      "metadata": {
        "id": "eTszUNLz_jdF"
      },
      "outputs": [],
      "source": [
        "import numpy as np\n",
        "import pandas as pd\n",
        "import matplotlib.pyplot as plt\n",
        "from sklearn.datasets import load_iris\n",
        "from sklearn.model_selection import train_test_split\n",
        "from sklearn.preprocessing import StandardScaler\n",
        "from sklearn.linear_model import LogisticRegression\n",
        "from sklearn.svm import SVC\n",
        "from sklearn.naive_bayes import GaussianNB\n",
        "from sklearn.metrics import accuracy_score, classification_report, confusion_matrix\n",
        "import seaborn as sns\n"
      ]
    },
    {
      "cell_type": "code",
      "source": [
        "data = pd.read_csv('submission.csv')\n"
      ],
      "metadata": {
        "id": "dqnYNEIgAi7s"
      },
      "execution_count": 4,
      "outputs": []
    },
    {
      "cell_type": "code",
      "source": [
        "y = data.iloc[:, -1]\n",
        "X = data.iloc[:, :-1]"
      ],
      "metadata": {
        "id": "F25grRbqBq5L"
      },
      "execution_count": 5,
      "outputs": []
    },
    {
      "cell_type": "code",
      "source": [
        "X_train, X_test, y_train, y_test = train_test_split(X, y, test_size=0.2, random_state=42, stratify=y)"
      ],
      "metadata": {
        "id": "P7fxZQGoBxN7"
      },
      "execution_count": 6,
      "outputs": []
    },
    {
      "cell_type": "code",
      "source": [
        "scaler = StandardScaler()\n",
        "X_train_scaled = scaler.fit_transform(X_train)\n",
        "X_test_scaled = scaler.transform(X_test)\n"
      ],
      "metadata": {
        "id": "XXUqHCdYB0GO"
      },
      "execution_count": 7,
      "outputs": []
    },
    {
      "cell_type": "markdown",
      "source": [
        "# Ridge Classification using Logistic Regression with **L2**"
      ],
      "metadata": {
        "id": "oDXRpEBsB-Xs"
      }
    },
    {
      "cell_type": "code",
      "source": [
        "ridge_clf = LogisticRegression(penalty='l2', solver='liblinear', random_state=42)\n",
        "ridge_clf.fit(X_train_scaled, y_train)\n",
        "y_pred_ridge = ridge_clf.predict(X_test_scaled)\n",
        "ridge_acc = accuracy_score(y_test, y_pred_ridge)"
      ],
      "metadata": {
        "id": "K_XEN3zGB3Ic"
      },
      "execution_count": 8,
      "outputs": []
    },
    {
      "cell_type": "markdown",
      "source": [
        "# **Lasso Classification using Logistic Regression with L1**"
      ],
      "metadata": {
        "id": "yDrPh5EICA97"
      }
    },
    {
      "cell_type": "code",
      "source": [
        "lasso_clf = LogisticRegression(penalty='l1', solver='liblinear', random_state=42)\n",
        "lasso_clf.fit(X_train_scaled, y_train)\n",
        "y_pred_lasso = lasso_clf.predict(X_test_scaled)\n",
        "lasso_acc = accuracy_score(y_test, y_pred_lasso)"
      ],
      "metadata": {
        "id": "mcC-5H3XCGH1"
      },
      "execution_count": 9,
      "outputs": []
    },
    {
      "cell_type": "markdown",
      "source": [
        "# **SVM**"
      ],
      "metadata": {
        "id": "FmWXiptACcKo"
      }
    },
    {
      "cell_type": "code",
      "source": [
        "svm_clf = SVC(kernel='linear', C=1, random_state=42)\n",
        "svm_clf.fit(X_train_scaled, y_train)\n",
        "y_pred_svm = svm_clf.predict(X_test_scaled)\n",
        "svm_acc = accuracy_score(y_test, y_pred_svm)"
      ],
      "metadata": {
        "id": "M5N2mGUaChID"
      },
      "execution_count": 10,
      "outputs": []
    },
    {
      "cell_type": "markdown",
      "source": [
        "# **Naive Bayes**"
      ],
      "metadata": {
        "id": "2YhTPYA4Ctd7"
      }
    },
    {
      "cell_type": "code",
      "source": [
        "nb_clf = GaussianNB()\n",
        "nb_clf.fit(X_train, y_train)\n",
        "y_pred_nb = nb_clf.predict(X_test)\n",
        "nb_acc = accuracy_score(y_test, y_pred_nb)\n"
      ],
      "metadata": {
        "id": "aNZMaE9ECzdh"
      },
      "execution_count": 11,
      "outputs": []
    },
    {
      "cell_type": "markdown",
      "source": [],
      "metadata": {
        "id": "e8J7IcVcC6WH"
      }
    },
    {
      "cell_type": "code",
      "source": [
        "print(f\"Ridge Accuracy: {ridge_acc:.4f}\")\n",
        "print(f\"Lasso Accuracy: {lasso_acc:.4f}\")\n",
        "print(f\"SVM Accuracy: {svm_acc:.4f}\")\n",
        "print(f\"Naive Bayes Accuracy: {nb_acc:.4f}\")\n"
      ],
      "metadata": {
        "colab": {
          "base_uri": "https://localhost:8080/"
        },
        "id": "fAAUzoQIDCRO",
        "outputId": "b9078897-bd03-4808-87cd-f22546499ea4"
      },
      "execution_count": 12,
      "outputs": [
        {
          "output_type": "stream",
          "name": "stdout",
          "text": [
            "Ridge Accuracy: 0.6429\n",
            "Lasso Accuracy: 0.6429\n",
            "SVM Accuracy: 0.6429\n",
            "Naive Bayes Accuracy: 0.6429\n"
          ]
        }
      ]
    },
    {
      "cell_type": "code",
      "source": [
        "cm = confusion_matrix(y_test, y_pred_svm)\n",
        "sns.heatmap(cm, annot=True, fmt='d', cmap='Blues')\n",
        "plt.title('SVM Confusion Matrix')\n",
        "plt.xlabel('Predicted')\n",
        "plt.ylabel('Actual')\n",
        "plt.show()"
      ],
      "metadata": {
        "colab": {
          "base_uri": "https://localhost:8080/",
          "height": 472
        },
        "id": "BcKOGzKyDDAY",
        "outputId": "556821b4-3611-4d84-e379-4e0958436b6f"
      },
      "execution_count": 13,
      "outputs": [
        {
          "output_type": "display_data",
          "data": {
            "text/plain": [
              "<Figure size 640x480 with 2 Axes>"
            ],
            "image/png": "[encoded data removed]"
          },
          "metadata": {}
        }
      ]
    },
    {
      "cell_type": "code",
      "source": [
        "models = ['Ridge', 'Lasso', 'SVM', 'Naive Bayes']\n",
        "accuracies = [ridge_acc, lasso_acc, svm_acc, nb_acc]\n",
        "plt.figure(figsize=(8, 5))\n",
        "sns.barplot(x=models, y=accuracies, palette='viridis')\n",
        "plt.title('Model Accuracy Comparison')\n",
        "plt.ylabel('Accuracy')\n",
        "plt.ylim(0.5, 1)\n",
        "plt.show()"
      ],
      "metadata": {
        "colab": {
          "base_uri": "https://localhost:8080/",
          "height": 575
        },
        "id": "e53tpoafDYMK",
        "outputId": "caf2fc6a-95f6-47de-e1ea-df1798c5471a"
      },
      "execution_count": 14,
      "outputs": [
        {
          "output_type": "stream",
          "name": "stderr",
          "text": [
            "/tmp/ipython-input-14-1380135700.py:4: FutureWarning: \n",
            "\n",
            "Passing `palette` without assigning `hue` is deprecated and will be removed in v0.14.0. Assign the `x` variable to `hue` and set `legend=False` for the same effect.\n",
            "\n",
            "  sns.barplot(x=models, y=accuracies, palette='viridis')\n"
          ]
        },
        {
          "output_type": "display_data",
          "data": {
            "text/plain": [
              "<Figure size 800x500 with 1 Axes>"
            ],
            "image/png": "[encoded data removed]"
          },
          "metadata": {}
        }
      ]
    }
  ]
}